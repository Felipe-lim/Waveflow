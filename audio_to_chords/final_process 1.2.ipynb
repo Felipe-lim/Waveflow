{
 "cells": [
  {
   "cell_type": "markdown",
   "metadata": {},
   "source": [
    "# V 1.2"
   ]
  },
  {
   "cell_type": "markdown",
   "metadata": {},
   "source": [
    "### A versão 1.2 tem o formato completo do cromagrama sem a primeira e a ultima oitava e usa a detecção de acordes da music21"
   ]
  },
  {
   "cell_type": "code",
   "execution_count": null,
   "metadata": {},
   "outputs": [],
   "source": [
    "import librosa\n",
    "import numpy as np\n",
    "import matplotlib.pyplot as plt\n",
    "from pydub import AudioSegment\n",
    "from music21 import *\n"
   ]
  },
  {
   "cell_type": "code",
   "execution_count": 9,
   "metadata": {},
   "outputs": [],
   "source": [
    "def cria_chroma_from_sample(sample, sample_rate):\n",
    "\n",
    "    y_harmonic = librosa.effects.harmonic(sample)\n",
    "\n",
    "    # Compute chroma features from the harmonic signal\n",
    "    # Transforma cada faixa de frequencia em notas musicais\n",
    "    #chromagram = librosa.feature.chroma_cqt(y=y_harmonic,\n",
    "     #                                       sr=sample_rate)\n",
    "     \n",
    "    chromagram = librosa.amplitude_to_db(np.abs(librosa.cqt(y_harmonic, sr=sample_rate)), ref=np.max)\n",
    "    \n",
    "    chromagram = chromagram[12:-12]\n",
    "\n",
    "    return chromagram"
   ]
  },
  {
   "cell_type": "code",
   "execution_count": 10,
   "metadata": {},
   "outputs": [],
   "source": [
    "def identifica_picos(lista):\n",
    "\n",
    "    n1, n2, n3 = 0, 1, 2\n",
    "    picos_notas = []\n",
    "\n",
    "    #and lista[n2] > -130\n",
    "    # verifica de 3 em 3, procurando picos\n",
    "    while n3 < len(lista) :\n",
    "\n",
    "        # testa se há a condição de pico e se atende a quantidade mínima de decibeis\n",
    "        if lista[n1] < lista[n2] > lista[n3] and lista[n2] > -1900:\n",
    "            picos_notas.append([n2, lista[n2]])\n",
    "\n",
    "        n1, n2, n3 = n1+1, n2+1, n3+1\n",
    "\n",
    "    # ordena com base no volume\n",
    "    picos_notas = sorted(picos_notas, key=lambda x: x[1], reverse=True)\n",
    "\n",
    "    return picos_notas"
   ]
  },
  {
   "cell_type": "code",
   "execution_count": 20,
   "metadata": {},
   "outputs": [],
   "source": [
    "def identifica_fundamental(chroma):\n",
    "\n",
    "    #critério de seleção: linha com o maior valor\n",
    "    linhas_somadas = np.sum(chroma, axis=1)\n",
    "\n",
    "    # argsort() retorna os índices que ordenariam um array.\n",
    "    # [-2:] pega os dois últimos índices, que correspondem às maiores somas\n",
    "    #i_maiores_somas = np.argsort(linhas_somadas)[-15:]\n",
    "    \n",
    "    picos_notas = identifica_picos(linhas_somadas)\n",
    "\n",
    "    notas_musicais = {\n",
    "    0: \"C\",\n",
    "    1: \"C#\",\n",
    "    2: \"D\",\n",
    "    3: \"D#\",\n",
    "    4: \"E\",\n",
    "    5: \"F\",\n",
    "    6: \"F#\",\n",
    "    7: \"G\",\n",
    "    8: \"G#\",\n",
    "    9: \"A\",\n",
    "    10: \"A#\",\n",
    "    11: \"B\"\n",
    "    }\n",
    "\n",
    "    array_notas = []\n",
    "\n",
    "    for i in picos_notas:\n",
    "        nota = notas_musicais[i[0]%12]\n",
    "        \n",
    "        array_notas.append(nota)\n",
    "\n",
    "    \n",
    "    if array_notas:\n",
    "        acorde = chord.Chord(array_notas)\n",
    "        nota_fundamental = str(acorde.root())\n",
    "    else:\n",
    "        nota_fundamental = '0'\n",
    "\n",
    "    #print(array_notas)\n",
    "    return nota_fundamental\n",
    "    "
   ]
  },
  {
   "cell_type": "code",
   "execution_count": 12,
   "metadata": {},
   "outputs": [],
   "source": [
    "def contar_sequencias_notas(lista):\n",
    "    # recebe uma sequencia de notas e transforma em uma matriz 2x2 com a nota e a quantidade de tempos que ela se repetiu\n",
    "    \n",
    "    contagens_sequenciais = []\n",
    "    atual = lista[0]\n",
    "    contagem = 0\n",
    "\n",
    "    for elemento in lista:\n",
    "        if elemento == atual:\n",
    "            contagem += 1\n",
    "        else:\n",
    "            contagens_sequenciais.append([atual, contagem])\n",
    "            atual = elemento\n",
    "            contagem = 1\n",
    "    contagens_sequenciais.append([atual, contagem])  # Para o último elemento\n",
    "\n",
    "    # Sua lista de entrada\n",
    "    #entrada = [1, 1, 1, 2, 2, 3, 3, 3, 3, 1, 1, 1, 1, 2, 2]\n",
    "    #saida   = [[1, 3], [2, 2], [3, 4], [1, 4], [2, 2]]\n",
    "\n",
    "    # Chamar a função para contar sequências\n",
    "    #resultado = contar_sequencias_notas(entrada)\n",
    "\n",
    "    return contagens_sequenciais"
   ]
  },
  {
   "cell_type": "code",
   "execution_count": 13,
   "metadata": {},
   "outputs": [],
   "source": [
    "def main(file = str):\n",
    "    # Carregar o arquivo mp3\n",
    "    audio = AudioSegment.from_file(file, format=\"mp3\")\n",
    "\n",
    "    # Definindo a duração de cada segmento em milissegundos\n",
    "    #duracao_segmento = 167  # 1/6 segundos\n",
    "    duracao_segmento = 500  # 1/6 segundos\n",
    "\n",
    "    notas_fundamentais_acordes = []\n",
    "\n",
    "    # Segmentando o áudio\n",
    "    for i in range(0, len(audio), duracao_segmento):\n",
    "        segmento = audio[i:i + duracao_segmento]\n",
    "        #print(i, i+duracao_segmento)\n",
    "\n",
    "        sample = np.array(segmento.get_array_of_samples()).astype(np.float32) / 32768\n",
    "        sample_rate = segmento.frame_rate\n",
    "\n",
    "        chromagram = cria_chroma_from_sample(sample=sample, sample_rate=sample_rate)\n",
    "        \n",
    "        fundamental = identifica_fundamental(chroma=chromagram)\n",
    "\n",
    "        notas_fundamentais_acordes.append(fundamental)\n",
    "\n",
    "    \n",
    "    notas_fundamentais_acordes = contar_sequencias_notas(notas_fundamentais_acordes)\n",
    "    return(notas_fundamentais_acordes)"
   ]
  },
  {
   "cell_type": "code",
   "execution_count": 21,
   "metadata": {},
   "outputs": [],
   "source": [
    "notas_final = main('teste2_1min.mp3')"
   ]
  },
  {
   "cell_type": "markdown",
   "metadata": {},
   "source": [
    "as notas estão indo entre 7 e 7 unidades de tempo escolhidas. Com variação de + - 1"
   ]
  },
  {
   "cell_type": "markdown",
   "metadata": {},
   "source": [
    "Bug das quintas foi quase completamente corrigido"
   ]
  },
  {
   "cell_type": "code",
   "execution_count": 18,
   "metadata": {},
   "outputs": [
    {
     "data": {
      "text/plain": [
       "[['0', 3],\n",
       " ['G', 1],\n",
       " ['0', 2],\n",
       " ['A', 5],\n",
       " ['F', 5],\n",
       " ['C', 5],\n",
       " ['C#', 1],\n",
       " ['G', 5],\n",
       " ['A', 3],\n",
       " ['D#', 1],\n",
       " ['A', 1],\n",
       " ['F', 6],\n",
       " ['C', 5],\n",
       " ['G', 5],\n",
       " ['A', 5],\n",
       " ['F#', 1],\n",
       " ['F', 5],\n",
       " ['C', 4],\n",
       " ['A', 1],\n",
       " ['G', 2],\n",
       " ['E', 2],\n",
       " ['G', 1],\n",
       " ['C', 1],\n",
       " ['A', 4],\n",
       " ['C', 1],\n",
       " ['F', 5],\n",
       " ['C', 5],\n",
       " ['G', 6],\n",
       " ['A', 5],\n",
       " ['F', 5],\n",
       " ['C', 6],\n",
       " ['G', 2],\n",
       " ['E', 2],\n",
       " ['G', 1],\n",
       " ['A', 4],\n",
       " ['F#', 2],\n",
       " ['F', 2]]"
      ]
     },
     "execution_count": 18,
     "metadata": {},
     "output_type": "execute_result"
    }
   ],
   "source": [
    "notas_final"
   ]
  }
 ],
 "metadata": {
  "kernelspec": {
   "display_name": "Python 3",
   "language": "python",
   "name": "python3"
  },
  "language_info": {
   "codemirror_mode": {
    "name": "ipython",
    "version": 3
   },
   "file_extension": ".py",
   "mimetype": "text/x-python",
   "name": "python",
   "nbconvert_exporter": "python",
   "pygments_lexer": "ipython3",
   "version": "3.12.0"
  }
 },
 "nbformat": 4,
 "nbformat_minor": 2
}
